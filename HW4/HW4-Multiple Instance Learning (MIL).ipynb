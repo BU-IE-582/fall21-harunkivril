{
 "cells": [
  {
   "cell_type": "markdown",
   "id": "36210222",
   "metadata": {},
   "source": [
    "# MULTIPLE INSTANCE LEARNING (MIL)"
   ]
  },
  {
   "cell_type": "code",
   "execution_count": 1,
   "id": "a5d30297",
   "metadata": {},
   "outputs": [],
   "source": [
    "import pandas as pd\n",
    "import numpy as np\n",
    "import matplotlib.pyplot as plt\n",
    "plt.style.use(\"ggplot\")\n",
    "\n",
    "from sklearn.model_selection import cross_val_score, KFold, GridSearchCV\n",
    "from sklearn.ensemble import RandomForestClassifier\n",
    "from sklearn.linear_model import LogisticRegressionCV, LogisticRegression\n",
    "from sklearn.preprocessing import StandardScaler\n",
    "from sklearn.metrics.pairwise import euclidean_distances"
   ]
  },
  {
   "cell_type": "code",
   "execution_count": 2,
   "id": "11b63fcd",
   "metadata": {},
   "outputs": [
    {
     "name": "stdout",
     "output_type": "stream",
     "text": [
      "(476, 168)\n"
     ]
    },
    {
     "data": {
      "text/html": [
       "<div>\n",
       "<style scoped>\n",
       "    .dataframe tbody tr th:only-of-type {\n",
       "        vertical-align: middle;\n",
       "    }\n",
       "\n",
       "    .dataframe tbody tr th {\n",
       "        vertical-align: top;\n",
       "    }\n",
       "\n",
       "    .dataframe thead th {\n",
       "        text-align: right;\n",
       "    }\n",
       "</style>\n",
       "<table border=\"1\" class=\"dataframe\">\n",
       "  <thead>\n",
       "    <tr style=\"text-align: right;\">\n",
       "      <th></th>\n",
       "      <th>is_musk</th>\n",
       "      <th>bag_id</th>\n",
       "      <th>F0</th>\n",
       "      <th>F1</th>\n",
       "      <th>F2</th>\n",
       "      <th>F3</th>\n",
       "      <th>F4</th>\n",
       "      <th>F5</th>\n",
       "      <th>F6</th>\n",
       "      <th>F7</th>\n",
       "      <th>...</th>\n",
       "      <th>F156</th>\n",
       "      <th>F157</th>\n",
       "      <th>F158</th>\n",
       "      <th>F159</th>\n",
       "      <th>F160</th>\n",
       "      <th>F161</th>\n",
       "      <th>F162</th>\n",
       "      <th>F163</th>\n",
       "      <th>F164</th>\n",
       "      <th>F165</th>\n",
       "    </tr>\n",
       "  </thead>\n",
       "  <tbody>\n",
       "    <tr>\n",
       "      <th>0</th>\n",
       "      <td>1</td>\n",
       "      <td>1</td>\n",
       "      <td>42</td>\n",
       "      <td>-198</td>\n",
       "      <td>-109</td>\n",
       "      <td>-75</td>\n",
       "      <td>-117</td>\n",
       "      <td>11</td>\n",
       "      <td>23</td>\n",
       "      <td>-88</td>\n",
       "      <td>...</td>\n",
       "      <td>-238</td>\n",
       "      <td>-74</td>\n",
       "      <td>-129</td>\n",
       "      <td>-120</td>\n",
       "      <td>-38</td>\n",
       "      <td>30</td>\n",
       "      <td>48</td>\n",
       "      <td>-37</td>\n",
       "      <td>6</td>\n",
       "      <td>30</td>\n",
       "    </tr>\n",
       "    <tr>\n",
       "      <th>1</th>\n",
       "      <td>1</td>\n",
       "      <td>1</td>\n",
       "      <td>42</td>\n",
       "      <td>-191</td>\n",
       "      <td>-142</td>\n",
       "      <td>-65</td>\n",
       "      <td>-117</td>\n",
       "      <td>55</td>\n",
       "      <td>49</td>\n",
       "      <td>-170</td>\n",
       "      <td>...</td>\n",
       "      <td>-238</td>\n",
       "      <td>-302</td>\n",
       "      <td>60</td>\n",
       "      <td>-120</td>\n",
       "      <td>-39</td>\n",
       "      <td>31</td>\n",
       "      <td>48</td>\n",
       "      <td>-37</td>\n",
       "      <td>5</td>\n",
       "      <td>30</td>\n",
       "    </tr>\n",
       "    <tr>\n",
       "      <th>2</th>\n",
       "      <td>1</td>\n",
       "      <td>1</td>\n",
       "      <td>42</td>\n",
       "      <td>-191</td>\n",
       "      <td>-142</td>\n",
       "      <td>-75</td>\n",
       "      <td>-117</td>\n",
       "      <td>11</td>\n",
       "      <td>49</td>\n",
       "      <td>-161</td>\n",
       "      <td>...</td>\n",
       "      <td>-238</td>\n",
       "      <td>-73</td>\n",
       "      <td>-127</td>\n",
       "      <td>-120</td>\n",
       "      <td>-38</td>\n",
       "      <td>30</td>\n",
       "      <td>48</td>\n",
       "      <td>-37</td>\n",
       "      <td>5</td>\n",
       "      <td>31</td>\n",
       "    </tr>\n",
       "    <tr>\n",
       "      <th>3</th>\n",
       "      <td>1</td>\n",
       "      <td>1</td>\n",
       "      <td>42</td>\n",
       "      <td>-198</td>\n",
       "      <td>-110</td>\n",
       "      <td>-65</td>\n",
       "      <td>-117</td>\n",
       "      <td>55</td>\n",
       "      <td>23</td>\n",
       "      <td>-95</td>\n",
       "      <td>...</td>\n",
       "      <td>-238</td>\n",
       "      <td>-302</td>\n",
       "      <td>60</td>\n",
       "      <td>-120</td>\n",
       "      <td>-39</td>\n",
       "      <td>30</td>\n",
       "      <td>48</td>\n",
       "      <td>-37</td>\n",
       "      <td>6</td>\n",
       "      <td>30</td>\n",
       "    </tr>\n",
       "    <tr>\n",
       "      <th>4</th>\n",
       "      <td>1</td>\n",
       "      <td>2</td>\n",
       "      <td>42</td>\n",
       "      <td>-198</td>\n",
       "      <td>-102</td>\n",
       "      <td>-75</td>\n",
       "      <td>-117</td>\n",
       "      <td>10</td>\n",
       "      <td>24</td>\n",
       "      <td>-87</td>\n",
       "      <td>...</td>\n",
       "      <td>-238</td>\n",
       "      <td>-73</td>\n",
       "      <td>-127</td>\n",
       "      <td>51</td>\n",
       "      <td>128</td>\n",
       "      <td>144</td>\n",
       "      <td>43</td>\n",
       "      <td>-30</td>\n",
       "      <td>14</td>\n",
       "      <td>26</td>\n",
       "    </tr>\n",
       "  </tbody>\n",
       "</table>\n",
       "<p>5 rows × 168 columns</p>\n",
       "</div>"
      ],
      "text/plain": [
       "   is_musk  bag_id  F0   F1   F2  F3   F4  F5  F6   F7  ...  F156  F157  F158  \\\n",
       "0        1       1  42 -198 -109 -75 -117  11  23  -88  ...  -238   -74  -129   \n",
       "1        1       1  42 -191 -142 -65 -117  55  49 -170  ...  -238  -302    60   \n",
       "2        1       1  42 -191 -142 -75 -117  11  49 -161  ...  -238   -73  -127   \n",
       "3        1       1  42 -198 -110 -65 -117  55  23  -95  ...  -238  -302    60   \n",
       "4        1       2  42 -198 -102 -75 -117  10  24  -87  ...  -238   -73  -127   \n",
       "\n",
       "   F159  F160  F161  F162  F163  F164  F165  \n",
       "0  -120   -38    30    48   -37     6    30  \n",
       "1  -120   -39    31    48   -37     5    30  \n",
       "2  -120   -38    30    48   -37     5    31  \n",
       "3  -120   -39    30    48   -37     6    30  \n",
       "4    51   128   144    43   -30    14    26  \n",
       "\n",
       "[5 rows x 168 columns]"
      ]
     },
     "execution_count": 2,
     "metadata": {},
     "output_type": "execute_result"
    }
   ],
   "source": [
    "col_names = [\"is_musk\", \"bag_id\"] + [f\"F{i}\" for i in range(166)]\n",
    "data = pd.read_csv(\"./Musk1.csv\", names=col_names)\n",
    "print(data.shape)\n",
    "data.head()"
   ]
  },
  {
   "cell_type": "code",
   "execution_count": 3,
   "id": "59d6107b",
   "metadata": {},
   "outputs": [
    {
     "data": {
      "image/png": "[encoded data removed]",
      "text/plain": [
       "<Figure size 640x480 with 1 Axes>"
      ]
     },
     "metadata": {},
     "output_type": "display_data"
    }
   ],
   "source": [
    "data.bag_id.value_counts().hist()\n",
    "plt.title(\"# of Observations in Bags\")\n",
    "plt.show()"
   ]
  },
  {
   "cell_type": "code",
   "execution_count": 4,
   "id": "e7113eb8",
   "metadata": {},
   "outputs": [
    {
     "data": {
      "text/plain": [
       "count    92.000000\n",
       "mean      5.173913\n",
       "std       6.432419\n",
       "min       2.000000\n",
       "25%       2.000000\n",
       "50%       4.000000\n",
       "75%       5.000000\n",
       "max      40.000000\n",
       "Name: bag_id, dtype: float64"
      ]
     },
     "execution_count": 4,
     "metadata": {},
     "output_type": "execute_result"
    }
   ],
   "source": [
    "data.bag_id.value_counts().describe()"
   ]
  },
  {
   "cell_type": "markdown",
   "id": "c17b8958",
   "metadata": {},
   "source": [
    "The # of observation in each bag is not the same therefore we cannot simply represent it in a wide manner where the data has 166*(N observation in a bag). We need to figure out another way to do it. As the instructions say one option is to use the mean as the bag level representation. We will use the mean representation as the baseline features and evaluate its performance in every algorithm."
   ]
  },
  {
   "cell_type": "code",
   "execution_count": 5,
   "id": "f3e37cc6",
   "metadata": {},
   "outputs": [
    {
     "data": {
      "text/html": [
       "<div>\n",
       "<style scoped>\n",
       "    .dataframe tbody tr th:only-of-type {\n",
       "        vertical-align: middle;\n",
       "    }\n",
       "\n",
       "    .dataframe tbody tr th {\n",
       "        vertical-align: top;\n",
       "    }\n",
       "\n",
       "    .dataframe thead th {\n",
       "        text-align: right;\n",
       "    }\n",
       "</style>\n",
       "<table border=\"1\" class=\"dataframe\">\n",
       "  <thead>\n",
       "    <tr style=\"text-align: right;\">\n",
       "      <th></th>\n",
       "      <th>bag_id</th>\n",
       "      <th>is_musk</th>\n",
       "      <th>F0</th>\n",
       "      <th>F1</th>\n",
       "      <th>F2</th>\n",
       "      <th>F3</th>\n",
       "      <th>F4</th>\n",
       "      <th>F5</th>\n",
       "      <th>F6</th>\n",
       "      <th>F7</th>\n",
       "      <th>...</th>\n",
       "      <th>F156</th>\n",
       "      <th>F157</th>\n",
       "      <th>F158</th>\n",
       "      <th>F159</th>\n",
       "      <th>F160</th>\n",
       "      <th>F161</th>\n",
       "      <th>F162</th>\n",
       "      <th>F163</th>\n",
       "      <th>F164</th>\n",
       "      <th>F165</th>\n",
       "    </tr>\n",
       "  </thead>\n",
       "  <tbody>\n",
       "    <tr>\n",
       "      <th>0</th>\n",
       "      <td>1</td>\n",
       "      <td>1.0</td>\n",
       "      <td>42.000000</td>\n",
       "      <td>-194.500000</td>\n",
       "      <td>-125.750000</td>\n",
       "      <td>-70.000000</td>\n",
       "      <td>-117.0</td>\n",
       "      <td>33.000000</td>\n",
       "      <td>36.000000</td>\n",
       "      <td>-128.5</td>\n",
       "      <td>...</td>\n",
       "      <td>-238.000000</td>\n",
       "      <td>-187.75</td>\n",
       "      <td>-34.0</td>\n",
       "      <td>-120.000000</td>\n",
       "      <td>-38.500000</td>\n",
       "      <td>30.250000</td>\n",
       "      <td>48.000000</td>\n",
       "      <td>-37.000000</td>\n",
       "      <td>5.500000</td>\n",
       "      <td>30.250000</td>\n",
       "    </tr>\n",
       "    <tr>\n",
       "      <th>1</th>\n",
       "      <td>2</td>\n",
       "      <td>1.0</td>\n",
       "      <td>42.000000</td>\n",
       "      <td>-194.500000</td>\n",
       "      <td>-122.000000</td>\n",
       "      <td>-70.000000</td>\n",
       "      <td>-117.0</td>\n",
       "      <td>33.000000</td>\n",
       "      <td>36.250000</td>\n",
       "      <td>-128.0</td>\n",
       "      <td>...</td>\n",
       "      <td>-238.000000</td>\n",
       "      <td>-186.25</td>\n",
       "      <td>-32.5</td>\n",
       "      <td>51.000000</td>\n",
       "      <td>126.500000</td>\n",
       "      <td>143.500000</td>\n",
       "      <td>42.750000</td>\n",
       "      <td>-30.250000</td>\n",
       "      <td>14.000000</td>\n",
       "      <td>26.500000</td>\n",
       "    </tr>\n",
       "    <tr>\n",
       "      <th>2</th>\n",
       "      <td>3</td>\n",
       "      <td>1.0</td>\n",
       "      <td>42.000000</td>\n",
       "      <td>-166.000000</td>\n",
       "      <td>-102.500000</td>\n",
       "      <td>-30.500000</td>\n",
       "      <td>-116.5</td>\n",
       "      <td>5.000000</td>\n",
       "      <td>27.500000</td>\n",
       "      <td>-142.5</td>\n",
       "      <td>...</td>\n",
       "      <td>-235.500000</td>\n",
       "      <td>-57.50</td>\n",
       "      <td>-45.5</td>\n",
       "      <td>13.000000</td>\n",
       "      <td>120.500000</td>\n",
       "      <td>133.500000</td>\n",
       "      <td>55.500000</td>\n",
       "      <td>-32.500000</td>\n",
       "      <td>2.000000</td>\n",
       "      <td>16.500000</td>\n",
       "    </tr>\n",
       "    <tr>\n",
       "      <th>3</th>\n",
       "      <td>4</td>\n",
       "      <td>1.0</td>\n",
       "      <td>42.666667</td>\n",
       "      <td>-154.666667</td>\n",
       "      <td>-77.333333</td>\n",
       "      <td>-42.333333</td>\n",
       "      <td>-117.0</td>\n",
       "      <td>22.333333</td>\n",
       "      <td>21.666667</td>\n",
       "      <td>-132.0</td>\n",
       "      <td>...</td>\n",
       "      <td>-237.333333</td>\n",
       "      <td>-142.00</td>\n",
       "      <td>-15.0</td>\n",
       "      <td>-80.333333</td>\n",
       "      <td>-33.666667</td>\n",
       "      <td>31.333333</td>\n",
       "      <td>50.333333</td>\n",
       "      <td>-38.333333</td>\n",
       "      <td>5.333333</td>\n",
       "      <td>32.333333</td>\n",
       "    </tr>\n",
       "    <tr>\n",
       "      <th>4</th>\n",
       "      <td>5</td>\n",
       "      <td>1.0</td>\n",
       "      <td>61.500000</td>\n",
       "      <td>-72.500000</td>\n",
       "      <td>-102.000000</td>\n",
       "      <td>-25.250000</td>\n",
       "      <td>-34.0</td>\n",
       "      <td>19.000000</td>\n",
       "      <td>29.000000</td>\n",
       "      <td>-143.5</td>\n",
       "      <td>...</td>\n",
       "      <td>-237.750000</td>\n",
       "      <td>-117.25</td>\n",
       "      <td>-60.5</td>\n",
       "      <td>5.000000</td>\n",
       "      <td>75.750000</td>\n",
       "      <td>136.750000</td>\n",
       "      <td>68.500000</td>\n",
       "      <td>-26.750000</td>\n",
       "      <td>-0.250000</td>\n",
       "      <td>36.750000</td>\n",
       "    </tr>\n",
       "  </tbody>\n",
       "</table>\n",
       "<p>5 rows × 168 columns</p>\n",
       "</div>"
      ],
      "text/plain": [
       "   bag_id  is_musk         F0          F1          F2         F3     F4  \\\n",
       "0       1      1.0  42.000000 -194.500000 -125.750000 -70.000000 -117.0   \n",
       "1       2      1.0  42.000000 -194.500000 -122.000000 -70.000000 -117.0   \n",
       "2       3      1.0  42.000000 -166.000000 -102.500000 -30.500000 -116.5   \n",
       "3       4      1.0  42.666667 -154.666667  -77.333333 -42.333333 -117.0   \n",
       "4       5      1.0  61.500000  -72.500000 -102.000000 -25.250000  -34.0   \n",
       "\n",
       "          F5         F6     F7  ...        F156    F157  F158        F159  \\\n",
       "0  33.000000  36.000000 -128.5  ... -238.000000 -187.75 -34.0 -120.000000   \n",
       "1  33.000000  36.250000 -128.0  ... -238.000000 -186.25 -32.5   51.000000   \n",
       "2   5.000000  27.500000 -142.5  ... -235.500000  -57.50 -45.5   13.000000   \n",
       "3  22.333333  21.666667 -132.0  ... -237.333333 -142.00 -15.0  -80.333333   \n",
       "4  19.000000  29.000000 -143.5  ... -237.750000 -117.25 -60.5    5.000000   \n",
       "\n",
       "         F160        F161       F162       F163       F164       F165  \n",
       "0  -38.500000   30.250000  48.000000 -37.000000   5.500000  30.250000  \n",
       "1  126.500000  143.500000  42.750000 -30.250000  14.000000  26.500000  \n",
       "2  120.500000  133.500000  55.500000 -32.500000   2.000000  16.500000  \n",
       "3  -33.666667   31.333333  50.333333 -38.333333   5.333333  32.333333  \n",
       "4   75.750000  136.750000  68.500000 -26.750000  -0.250000  36.750000  \n",
       "\n",
       "[5 rows x 168 columns]"
      ]
     },
     "execution_count": 5,
     "metadata": {},
     "output_type": "execute_result"
    }
   ],
   "source": [
    "mean_data = data.groupby(\"bag_id\").mean().reset_index()\n",
    "mean_data.head()"
   ]
  },
  {
   "cell_type": "markdown",
   "id": "fe306bb5",
   "metadata": {},
   "source": [
    "## Using Distribution Information"
   ]
  },
  {
   "cell_type": "markdown",
   "id": "fd9f0b8b",
   "metadata": {},
   "source": [
    "Constructing the representations using the feature distributions in the bag makes sense. One way to embed the distribution in our features is using the min max valeus in the bag additional to the mean. Also, I think that # of observations in each bag can be a usefull feature especially if we use a tree based algorithm."
   ]
  },
  {
   "cell_type": "code",
   "execution_count": 6,
   "id": "783f4873",
   "metadata": {},
   "outputs": [
    {
     "name": "stdout",
     "output_type": "stream",
     "text": [
      "New Data Shape:  (92, 501)\n"
     ]
    }
   ],
   "source": [
    "min_data = data.drop(columns=\"is_musk\").groupby(\"bag_id\").min().reset_index()\n",
    "min_data.columns = [x+\"_MIN\" if x.startswith(\"F\") else x for x in min_data]\n",
    "\n",
    "max_data = data.drop(columns=\"is_musk\").groupby(\"bag_id\").max().reset_index()\n",
    "max_data.columns = [x+\"_MAX\" if x.startswith(\"F\") else x for x in max_data]\n",
    "\n",
    "n_observations = data.groupby(\"bag_id\").size().reset_index().rename(columns={0:\"N\"})\n",
    "\n",
    "min_max_mean_data = mean_data.merge(min_data).merge(max_data).merge(n_observations)\n",
    "print(\"New Data Shape: \", min_max_mean_data.shape)"
   ]
  },
  {
   "cell_type": "markdown",
   "id": "a35a4dac",
   "metadata": {},
   "source": [
    "One imporovement to this method is to enhance the distribution information adding the missing quartiles. With these values we aim to represent the distribution in our features better."
   ]
  },
  {
   "cell_type": "code",
   "execution_count": 7,
   "id": "d5b4d41f",
   "metadata": {},
   "outputs": [
    {
     "name": "stdout",
     "output_type": "stream",
     "text": [
      "New Data Shape:  (92, 833)\n"
     ]
    }
   ],
   "source": [
    "q25_data = data.drop(columns=\"is_musk\").groupby(\"bag_id\").quantile(0.25).reset_index()\n",
    "q25_data.columns = [x+\"_Q25\" if x.startswith(\"F\") else x for x in q25_data]\n",
    "\n",
    "q75_data = data.drop(columns=\"is_musk\").groupby(\"bag_id\").max().reset_index()\n",
    "q75_data.columns = [x+\"_Q75\" if x.startswith(\"F\") else x for x in q75_data]\n",
    "\n",
    "dist_data = min_max_mean_data.merge(q25_data).merge(q75_data)\n",
    "\n",
    "# std_data = data.drop(columns=\"is_musk\").groupby(\"bag_id\").std().reset_index()\n",
    "# std_data.columns = [x+\"_STD\" if x.startswith(\"F\") else x for x in std_data]\n",
    "# dist_data = min_max_mean_data.merge(std_data)\n",
    "\n",
    "print(\"New Data Shape: \", dist_data.shape)"
   ]
  },
  {
   "cell_type": "markdown",
   "id": "80e678db",
   "metadata": {},
   "source": [
    "# Random Forest Classifier"
   ]
  },
  {
   "cell_type": "code",
   "execution_count": 8,
   "id": "f0875be7",
   "metadata": {},
   "outputs": [],
   "source": [
    "param_grid = {\n",
    "    'min_samples_leaf': [1, 3, 7],\n",
    "    'min_samples_split': [2, 4, 6],\n",
    "    'n_estimators': [100, 250, 500, 750],\n",
    "    \"random_state\":[3136],\n",
    "    \"n_jobs\":[-1]\n",
    "}"
   ]
  },
  {
   "cell_type": "code",
   "execution_count": 9,
   "id": "1b124138",
   "metadata": {},
   "outputs": [
    {
     "name": "stdout",
     "output_type": "stream",
     "text": [
      "['RF', 'Mean Data', 0.8344444444444445]\n",
      "['RF', 'Min Max Mean Data', 0.8566666666666667]\n",
      "['RF', 'Dist Data', 0.8244444444444445]\n"
     ]
    }
   ],
   "source": [
    "results = []\n",
    "\n",
    "names = [\"Mean Data\", \"Min Max Mean Data\", \"Dist Data\"]\n",
    "X_vals = [\n",
    "    mean_data.drop(columns=[\"bag_id\", \"is_musk\"]),\n",
    "    min_max_mean_data.drop(columns=[\"bag_id\", \"is_musk\"]),\n",
    "    dist_data.drop(columns=[\"bag_id\", \"is_musk\"]),\n",
    "]\n",
    "y_vals = [mean_data.is_musk, min_max_mean_data.is_musk, dist_data.is_musk]\n",
    "\n",
    "rf_classifier = RandomForestClassifier()\n",
    "\n",
    "# We need to tune the classifier in this step\n",
    "# If I left a validation set separetely my predictions will be biased in that part of the train data\n",
    "# Therefore I pass will do a grid search in each cross validation step. With 3 cv it shouldn't take much time\n",
    "# Since we got a small amount of data\n",
    "grid_searher = GridSearchCV(estimator=rf_classifier, param_grid=param_grid, cv=3, n_jobs=-1)\n",
    "\n",
    "for X, y, name in zip(X_vals, y_vals, names):\n",
    "\n",
    "    cvs = cross_val_score(\n",
    "        estimator=grid_searher, \n",
    "        X=X, \n",
    "        y=y, \n",
    "        scoring=\"accuracy\", \n",
    "        cv=10\n",
    "    )\n",
    "\n",
    "    line = [\"RF\", name, cvs.mean()]\n",
    "    results.append(line)\n",
    "    print(line)\n"
   ]
  },
  {
   "cell_type": "markdown",
   "id": "8e8d7861",
   "metadata": {},
   "source": [
    "## Logistic Regression"
   ]
  },
  {
   "cell_type": "code",
   "execution_count": 10,
   "id": "0d50cc90",
   "metadata": {},
   "outputs": [
    {
     "name": "stdout",
     "output_type": "stream",
     "text": [
      "['Log Reg', 'Mean Data', 0.8588888888888888]\n",
      "['Log Reg', 'Min Max Mean Data', 0.8688888888888888]\n",
      "['Log Reg', 'Dist Data', 0.8577777777777778]\n",
      "['Log Reg l2', 'Mean Data', 0.8477777777777777]\n"
     ]
    },
    {
     "name": "stderr",
     "output_type": "stream",
     "text": [
      "/home/harunkivril/anaconda3/envs/forelux_torch/lib/python3.9/site-packages/sklearn/linear_model/_logistic.py:814: ConvergenceWarning: lbfgs failed to converge (status=2):\n",
      "ABNORMAL_TERMINATION_IN_LNSRCH.\n",
      "\n",
      "Increase the number of iterations (max_iter) or scale the data as shown in:\n",
      "    https://scikit-learn.org/stable/modules/preprocessing.html\n",
      "Please also refer to the documentation for alternative solver options:\n",
      "    https://scikit-learn.org/stable/modules/linear_model.html#logistic-regression\n",
      "  n_iter_i = _check_optimize_result(\n"
     ]
    },
    {
     "name": "stdout",
     "output_type": "stream",
     "text": [
      "['Log Reg l2', 'Min Max Mean Data', 0.9111111111111111]\n",
      "['Log Reg l2', 'Dist Data', 0.9111111111111111]\n"
     ]
    }
   ],
   "source": [
    "logreg_none = LogisticRegression(penalty=\"none\", max_iter=1000)\n",
    "\n",
    "for X, y, name in zip(X_vals, y_vals, names):\n",
    "\n",
    "    cvs = cross_val_score(\n",
    "        estimator=logreg_none, \n",
    "        X=X, \n",
    "        y=y, \n",
    "        scoring=\"accuracy\", \n",
    "        cv=10\n",
    "    )\n",
    "\n",
    "    line = [\"Log Reg\", name, cvs.mean()]\n",
    "    results.append(line)\n",
    "    print(line)\n",
    "\n",
    "# Add l2  penalty. It will tune the parameter using cross validation\n",
    "logreg_l2 = LogisticRegressionCV(penalty=\"l2\", max_iter=1000)\n",
    "for X, y, name in zip(X_vals, y_vals, names):\n",
    "\n",
    "    cvs = cross_val_score(\n",
    "        estimator=logreg_l2, \n",
    "        X=X, \n",
    "        y=y, \n",
    "        scoring=\"accuracy\", \n",
    "        cv=10\n",
    "    )\n",
    "\n",
    "    line = [\"Log Reg l2\", name, cvs.mean()]\n",
    "    results.append(line)\n",
    "    print(line)\n"
   ]
  },
  {
   "cell_type": "markdown",
   "id": "11780ad0",
   "metadata": {},
   "source": [
    "Convergence warning seems like a not a problem here since it performs well in cross validation."
   ]
  },
  {
   "cell_type": "code",
   "execution_count": 11,
   "id": "9b7c19a5",
   "metadata": {},
   "outputs": [
    {
     "data": {
      "text/html": [
       "<div>\n",
       "<style scoped>\n",
       "    .dataframe tbody tr th:only-of-type {\n",
       "        vertical-align: middle;\n",
       "    }\n",
       "\n",
       "    .dataframe tbody tr th {\n",
       "        vertical-align: top;\n",
       "    }\n",
       "\n",
       "    .dataframe thead th {\n",
       "        text-align: right;\n",
       "    }\n",
       "</style>\n",
       "<table border=\"1\" class=\"dataframe\">\n",
       "  <thead>\n",
       "    <tr style=\"text-align: right;\">\n",
       "      <th>Features</th>\n",
       "      <th>Dist Data</th>\n",
       "      <th>Mean Data</th>\n",
       "      <th>Min Max Mean Data</th>\n",
       "    </tr>\n",
       "    <tr>\n",
       "      <th>Method</th>\n",
       "      <th></th>\n",
       "      <th></th>\n",
       "      <th></th>\n",
       "    </tr>\n",
       "  </thead>\n",
       "  <tbody>\n",
       "    <tr>\n",
       "      <th>Log Reg</th>\n",
       "      <td>0.857778</td>\n",
       "      <td>0.858889</td>\n",
       "      <td>0.868889</td>\n",
       "    </tr>\n",
       "    <tr>\n",
       "      <th>Log Reg l2</th>\n",
       "      <td>0.911111</td>\n",
       "      <td>0.847778</td>\n",
       "      <td>0.911111</td>\n",
       "    </tr>\n",
       "    <tr>\n",
       "      <th>RF</th>\n",
       "      <td>0.824444</td>\n",
       "      <td>0.834444</td>\n",
       "      <td>0.856667</td>\n",
       "    </tr>\n",
       "  </tbody>\n",
       "</table>\n",
       "</div>"
      ],
      "text/plain": [
       "Features    Dist Data  Mean Data  Min Max Mean Data\n",
       "Method                                             \n",
       "Log Reg      0.857778   0.858889           0.868889\n",
       "Log Reg l2   0.911111   0.847778           0.911111\n",
       "RF           0.824444   0.834444           0.856667"
      ]
     },
     "execution_count": 11,
     "metadata": {},
     "output_type": "execute_result"
    }
   ],
   "source": [
    "results = pd.DataFrame(results, columns=[\"Method\" , \"Features\", \"Accuracy\"])\n",
    "results = results.pivot(index=\"Method\", columns=\"Features\", values=\"Accuracy\")\n",
    "results"
   ]
  },
  {
   "cell_type": "markdown",
   "id": "4193049c",
   "metadata": {},
   "source": [
    "It appears that the best result comes from the l2 regularized Dist data and Min Max Mean Data. It appears that the missing quartiles does not add much information, it can be beacuse of the bags with a little instances which has quartiles that makes no sense. Also, having a regularized method as best makes sense because the number of data points are less than the number of features and a complex model can easily overfit. Regularization helps to control overfitting and obtain beter results."
   ]
  },
  {
   "cell_type": "markdown",
   "id": "2405a1fd",
   "metadata": {},
   "source": [
    "## Trying to Find the Most Usefull Observation"
   ]
  },
  {
   "cell_type": "markdown",
   "id": "7fa8d871",
   "metadata": {},
   "source": [
    "Another idea to determine the most usefull observation and use it as a bag representation. One way to do it is to use a distance metric to get the most distinct observatian from the mean of the data. This may help to select a proper observation in the bag and imporove the classification. This method can be improved by using an iterative approach to find the best representation however it would be a very detailed method that is out of scope of this task. Applying this method to the setting above would create bias since the distance should only be calculated in the training set. Therefore, we need to write cross validation steps on our own."
   ]
  },
  {
   "cell_type": "code",
   "execution_count": 12,
   "id": "b3f16b14",
   "metadata": {},
   "outputs": [
    {
     "name": "stdout",
     "output_type": "stream",
     "text": [
      "RF Accuracy:  0.7811111111111111\n",
      "Log Reg Accuracy:  0.8022222222222222\n"
     ]
    }
   ],
   "source": [
    "cv = KFold(n_splits=10, shuffle=True, random_state=3136)\n",
    "bags = data.bag_id.unique()\n",
    "\n",
    "rf_res = []\n",
    "logreg_res = []\n",
    "# We need to split bags not observations in this case\n",
    "for train, test in cv.split(bags):\n",
    "    train, test = bags[train], bags[test]\n",
    "    train_data, test_data = data[data.bag_id.isin(train)].copy(), data[data.bag_id.isin(test)].copy()\n",
    "    # Scale data to avoid feature scales effect the distances\n",
    "    \n",
    "    scaler = StandardScaler()\n",
    "    scaled_train_data = scaler.fit_transform(train_data.drop(columns=[\"bag_id\", \"is_musk\"]))\n",
    "    scaled_test_data = scaler.transform(test_data.drop(columns=[\"bag_id\", \"is_musk\"]))\n",
    "    \n",
    "    # Classes are almost balanced how ever I believe getting mean class means is healtier\n",
    "    representative_vec = (\n",
    "        np.mean(scaled_train_data[train_data.is_musk], axis=0) \n",
    "        + np.mean(scaled_train_data[~train_data.is_musk], axis=0)\n",
    "    )/2\n",
    "    \n",
    "    # Calculate distances to representative vector\n",
    "    train_distances = np.sum(np.square(scaled_train_data - representative_vec), axis=1)\n",
    "    train_data[\"dist\"] = train_distances\n",
    "    test_distances = np.sum(np.square(scaled_test_data - representative_vec), axis=1)\n",
    "    test_data[\"dist\"] = test_distances\n",
    "    \n",
    "    # Get the most distinct observation in bag \n",
    "    train_data = train_data.loc[train_data.groupby(\"bag_id\").dist.idxmax()]\n",
    "    test_data = test_data.loc[test_data.groupby(\"bag_id\").dist.idxmax()]\n",
    "    \n",
    "    # Train RF with tuning & record accuracy\n",
    "    grid_searher = GridSearchCV(estimator=rf_classifier, param_grid=param_grid, cv=3, n_jobs=-1)\n",
    "    grid_searher.fit(train_data.drop(columns=[\"bag_id\", \"is_musk\", \"dist\"]), train_data.is_musk)\n",
    "    rf_preds = grid_searher.predict(test_data.drop(columns=[\"bag_id\", \"is_musk\", \"dist\"]))\n",
    "    rf_acc = (rf_preds == test_data.is_musk).sum()/test_data.shape[0]\n",
    "    rf_res.append(rf_acc)\n",
    "    \n",
    "    # Train Log Reg and \n",
    "    logreg_classifier = LogisticRegressionCV(penalty=\"l2\", max_iter=1000, solver=\"lbfgs\")\n",
    "    logreg_classifier.fit(train_data.drop(columns=[\"bag_id\", \"is_musk\", \"dist\"]), train_data.is_musk)\n",
    "    \n",
    "    logreg_pred = logreg_classifier.predict(test_data.drop(columns=[\"bag_id\", \"is_musk\", \"dist\"]))\n",
    "    logreg_acc = (logreg_pred == test_data.is_musk).sum()/test_data.shape[0]\n",
    "    logreg_res.append(logreg_acc)\n",
    "    \n",
    "    \n",
    "print(\"RF Accuracy: \",np.mean(rf_res))\n",
    "print(\"Log Reg Accuracy: \",np.mean(logreg_res))\n"
   ]
  },
  {
   "cell_type": "markdown",
   "id": "fb8171dc",
   "metadata": {},
   "source": [
    "This method performs poor in terms of accuracy when it is compared to the distribution method. This result is reasanble since the method has some potential problems. First one is calculating the mean vector using the train data and we calculate a distance to a representation already includes that observation. This may cause a pottential overfitting. Secondly, just one of the instances in the bag may be causing a change in label and averaging may not make much sense. Additionaly label information can be hidden in multiple instances in the bag therefore by selecting just one we lost the information in other instances."
   ]
  },
  {
   "cell_type": "markdown",
   "id": "fa6faaa2",
   "metadata": {},
   "source": [
    "## Using distance to well known bags"
   ]
  },
  {
   "cell_type": "markdown",
   "id": "0c8611f0",
   "metadata": {},
   "source": [
    "When the instances in the bags are a lot it is hard to say that these instances represents the label, however there are bags with two observations. One of these observations or both together must carry information about the label, therefore we can say that these bags are well known. And the distances from observations from this bags to the other bags might be usefull. However, there is still variable number of observations in the other bags. This issue can be solved by using the minimum distance to the representative bag mean."
   ]
  },
  {
   "cell_type": "code",
   "execution_count": 13,
   "id": "83e4b472",
   "metadata": {},
   "outputs": [
    {
     "name": "stdout",
     "output_type": "stream",
     "text": [
      "# of Well Knowns in train_data:  27\n",
      "# of Well Knowns in train_data:  31\n",
      "# of Well Knowns in train_data:  29\n",
      "# of Well Knowns in train_data:  28\n",
      "# of Well Knowns in train_data:  28\n",
      "# of Well Knowns in train_data:  29\n",
      "# of Well Knowns in train_data:  30\n",
      "# of Well Knowns in train_data:  29\n",
      "# of Well Knowns in train_data:  29\n",
      "# of Well Knowns in train_data:  28\n",
      "RF Accuracy:  0.8788888888888889\n",
      "Log Reg Accuracy:  0.8355555555555556\n"
     ]
    }
   ],
   "source": [
    "cv = KFold(n_splits=10, shuffle=True, random_state=3136)\n",
    "bags = data.bag_id.unique()\n",
    "train_cols = list(data.drop(columns=[\"bag_id\", \"is_musk\"]))\n",
    "\n",
    "rf_res = []\n",
    "logreg_res = []\n",
    "# We need to split bags not observations in this case\n",
    "for train, test in cv.split(bags):\n",
    "    train, test = bags[train], bags[test]\n",
    "    train_data, test_data = data[data.bag_id.isin(train)].copy(), data[data.bag_id.isin(test)].copy()\n",
    "    # Scale data to avoid feature scales effect the distances\n",
    "    \n",
    "    scaled_train_data = train_data[[\"bag_id\", \"is_musk\"]].copy()\n",
    "    scaled_test_data = test_data[[\"bag_id\", \"is_musk\"]].copy()\n",
    "    scaler = StandardScaler()\n",
    "    scaled_train_data[train_cols] = scaler.fit_transform(train_data.drop(columns=[\"bag_id\", \"is_musk\"]))\n",
    "    scaled_test_data[train_cols] = scaler.transform(test_data.drop(columns=[\"bag_id\", \"is_musk\"]))\n",
    "    \n",
    "    # Get well known bags in train data\n",
    "    bag_sizes = scaled_train_data.groupby(\"bag_id\").size()\n",
    "    well_known_bags = bag_sizes[bag_sizes == 2].index\n",
    "    print(\"# of Well Knowns in train_data: \", len(well_known_bags))\n",
    "    # Get the mean of the observations and create well known bag representations\n",
    "    well_known = (\n",
    "        scaled_train_data[scaled_train_data.bag_id.isin(well_known_bags)]\n",
    "    )\n",
    "    \n",
    "    train_dist_df = scaled_train_data[[\"bag_id\", \"is_musk\"]].copy()\n",
    "    test_dist_df = scaled_test_data[[\"bag_id\", \"is_musk\"]].copy()\n",
    "    well_known_bags = [f\"BAGF_{i}\" for i in range(len(well_known_bags)*2)]\n",
    "    train_dist_df[well_known_bags] = euclidean_distances(scaled_train_data[train_cols], well_known[train_cols])\n",
    "    test_dist_df[well_known_bags] = euclidean_distances(scaled_test_data[train_cols], well_known[train_cols])\n",
    "    \n",
    "    # Get the minimum distance to each well known\n",
    "    train_dist_df = train_dist_df.groupby(\"bag_id\").min().reset_index()\n",
    "    test_dist_df = test_dist_df.groupby(\"bag_id\").min().reset_index()\n",
    "    \n",
    "    \n",
    "    # Train RF with tuning & record accuracy\n",
    "    grid_searher = GridSearchCV(estimator=rf_classifier, param_grid=param_grid, cv=3, n_jobs=-1)\n",
    "    grid_searher.fit(train_dist_df.drop(columns=[\"bag_id\", \"is_musk\"]), train_dist_df.is_musk)\n",
    "    rf_preds = grid_searher.predict(test_dist_df.drop(columns=[\"bag_id\", \"is_musk\"]))\n",
    "    rf_acc = (rf_preds == test_dist_df.is_musk).sum()/test_dist_df.shape[0]\n",
    "    rf_res.append(rf_acc)\n",
    "    \n",
    "    # Train Log Reg and \n",
    "    logreg_classifier = LogisticRegressionCV(penalty=\"l2\", max_iter=10000, solver=\"lbfgs\")\n",
    "    logreg_classifier.fit(train_dist_df.drop(columns=[\"bag_id\", \"is_musk\"]), train_dist_df.is_musk)\n",
    "    \n",
    "    logreg_pred = logreg_classifier.predict(test_dist_df.drop(columns=[\"bag_id\", \"is_musk\"]))\n",
    "    logreg_acc = (logreg_pred == test_dist_df.is_musk).sum()/test_dist_df.shape[0]\n",
    "    logreg_res.append(logreg_acc)\n",
    "    \n",
    "    \n",
    "print(\"RF Accuracy: \",np.mean(rf_res))\n",
    "print(\"Log Reg Accuracy: \",np.mean(logreg_res))"
   ]
  },
  {
   "cell_type": "markdown",
   "id": "73756d52",
   "metadata": {},
   "source": [
    "This method performs better than the previous one and has less potential problems, the main problem may be changing well known points. However, it is still behind the distribution information method that we first tried. Since we moved to a much lower dimension the RF method was able to beat L2 regularized LogReg method."
   ]
  },
  {
   "cell_type": "markdown",
   "id": "6a8b8650",
   "metadata": {},
   "source": [
    "In conclusion using Min Max Mean method with L2 regularized Logistic Regression performed best in 10 cv cross validation. Even though the data with quartiles has the same accuracy I selected the Min Max Mean data since it leads to a less complex model. Secondly RF with well known distances can be a good candidate and It just missclassifies one observation more. It may be considered as another choise or an ensemble of these two models can be considered."
   ]
  }
 ],
 "metadata": {
  "kernelspec": {
   "display_name": "Python (foreflux_torch)",
   "language": "python",
   "name": "forelux_torch"
  },
  "language_info": {
   "codemirror_mode": {
    "name": "ipython",
    "version": 3
   },
   "file_extension": ".py",
   "mimetype": "text/x-python",
   "name": "python",
   "nbconvert_exporter": "python",
   "pygments_lexer": "ipython3",
   "version": "3.9.1"
  }
 },
 "nbformat": 4,
 "nbformat_minor": 5
}
